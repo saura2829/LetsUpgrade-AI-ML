{
 "cells": [
  {
   "cell_type": "markdown",
   "metadata": {},
   "source": [
    "# Question 1:\n",
    "Write a program to copy the contents of one file to another using a for loop."
   ]
  },
  {
   "cell_type": "code",
   "execution_count": 12,
   "metadata": {},
   "outputs": [
    {
     "name": "stdout",
     "output_type": "stream",
     "text": [
      "Copy Content Successfully.\n"
     ]
    }
   ],
   "source": [
    "with open(\"test.txt\") as f:\n",
    "    with open(\"out.txt\", \"w\") as f1:\n",
    "        for line in f:\n",
    "            f1.write(line)\n",
    "            \n",
    "print(\"Copy Content Successfully.\")            "
   ]
  },
  {
   "cell_type": "markdown",
   "metadata": {},
   "source": [
    "# Question 2:\n",
    "Write a Python program to find maximum and minimum values in the dictionary."
   ]
  },
  {
   "cell_type": "code",
   "execution_count": 19,
   "metadata": {},
   "outputs": [
    {
     "name": "stdout",
     "output_type": "stream",
     "text": [
      "The original dictionary is :  {'A': 3, 'B': 2, 'C': 1}\n",
      "Keys with minimum values are :  ['C']\n",
      "Keys with maximum values are :  ['A']\n"
     ]
    }
   ],
   "source": [
    "dict = {'A' : 3, 'B' : 2, 'C' : 1} \n",
    "  \n",
    "# printing original dictionary \n",
    "print(\"The original dictionary is : \",dict) \n",
    "  \n",
    "# Using all() + list comprehension \n",
    "\n",
    "# Finding min value keys in dictionary \n",
    "\n",
    "min =  [key for key in test_dict if \n",
    "        all(test_dict[temp] >= test_dict[key] \n",
    "        for temp in test_dict)] \n",
    "\n",
    "max =  [key for key in test_dict if \n",
    "        all(test_dict[temp] <=test_dict[key] \n",
    "        for temp in test_dict)] \n",
    "  \n",
    "# printing result  \n",
    "print(\"Keys with minimum values are : \",min) \n",
    "\n",
    "print(\"Keys with maximum values are : \",max) "
   ]
  },
  {
   "cell_type": "code",
   "execution_count": null,
   "metadata": {},
   "outputs": [],
   "source": []
  }
 ],
 "metadata": {
  "kernelspec": {
   "display_name": "Python 3",
   "language": "python",
   "name": "python3"
  },
  "language_info": {
   "codemirror_mode": {
    "name": "ipython",
    "version": 3
   },
   "file_extension": ".py",
   "mimetype": "text/x-python",
   "name": "python",
   "nbconvert_exporter": "python",
   "pygments_lexer": "ipython3",
   "version": "3.7.6"
  }
 },
 "nbformat": 4,
 "nbformat_minor": 4
}
