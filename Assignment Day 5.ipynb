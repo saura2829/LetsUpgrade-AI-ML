{
 "cells": [
  {
   "cell_type": "markdown",
   "metadata": {},
   "source": [
    "# Question 1 :\n",
    "Write a Python program to find the first 20 non-even prime natural numbers."
   ]
  },
  {
   "cell_type": "code",
   "execution_count": 21,
   "metadata": {
    "scrolled": false
   },
   "outputs": [
    {
     "name": "stdout",
     "output_type": "stream",
     "text": [
      "3\n",
      "5\n",
      "7\n",
      "11\n",
      "13\n",
      "17\n",
      "19\n",
      "23\n",
      "29\n",
      "31\n",
      "37\n",
      "41\n",
      "43\n",
      "47\n",
      "53\n",
      "59\n",
      "61\n",
      "67\n",
      "71\n",
      "73\n"
     ]
    }
   ],
   "source": [
    " \n",
    "for a in range(3,75):   #2 is the only even prime number so we have started range from 3 directly\n",
    "    k=0\n",
    "    count=0\n",
    "    for i in range(2,a//2+1):\n",
    "        if(a%i==0):\n",
    "            k=k+1\n",
    "            count=count + a\n",
    "    if(k<=0 & count<21):     \n",
    "        print(a)"
   ]
  },
  {
   "cell_type": "markdown",
   "metadata": {},
   "source": [
    "# Question 2 :\n",
    "Write a Python program to implement 15 functions of string."
   ]
  },
  {
   "cell_type": "code",
   "execution_count": 25,
   "metadata": {},
   "outputs": [
    {
     "name": "stdout",
     "output_type": "stream",
     "text": [
      "Hello, and welcome to lu aiml\n",
      "hello, and welcome to lu aiml\n",
      "Hello, And Welcome To LU AIML\n",
      "HELLO, AND WELCOME TO LU AIML\n",
      "Hello, And Welcome To Lu Aiml\n",
      "hELLO, aND wELCOME tO lu aiml\n",
      "hello, and welcome to lu aiml\n",
      "False\n",
      "False\n",
      "False\n",
      "['Hello,', 'And', 'Welcome', 'To', 'LU', 'AIML']\n",
      "False\n",
      "1\n",
      "19\n",
      "Hello, And Welcome From LU AIML\n",
      "False\n"
     ]
    }
   ],
   "source": [
    "str = \"Hello, And Welcome To LU AIML\"\n",
    "a = str.capitalize()\n",
    "print(a)\n",
    "\n",
    "b = str.casefold()\n",
    "print(b)\n",
    "\n",
    "c=str.center(20)\n",
    "print(c)\n",
    "\n",
    "d=str.upper()\n",
    "print(d)\n",
    "\n",
    "e=str.title()\n",
    "print(e)\n",
    "\n",
    "f=str.swapcase()\n",
    "print(f)\n",
    "\n",
    "g=str.lower()\n",
    "print(g)\n",
    "\n",
    "h=str.isalnum()\n",
    "print(h)\n",
    "\n",
    "i=str.isalpha()\n",
    "print(i)\n",
    "\n",
    "j=str.isdecimal()\n",
    "print(j)\n",
    "\n",
    "k=str.split()\n",
    "print(k)\n",
    "\n",
    "l=str.isspace()\n",
    "print(l)\n",
    "\n",
    "m=str.count(\"To\")\n",
    "print(m)\n",
    "\n",
    "n=str.find(\"To\")\n",
    "print(n)\n",
    "\n",
    "o=str.replace(\"To\",\"From\")\n",
    "print(o)\n",
    "\n",
    "p=str.isupper()\n",
    "print(p)\n",
    "\n",
    "\n",
    "\n"
   ]
  },
  {
   "cell_type": "markdown",
   "metadata": {},
   "source": [
    "# Question 3:\n",
    "Write a Python program to check if the given string is a Palindrome or Anagram or None of them. Display\n",
    "the message accordingly to the user."
   ]
  },
  {
   "cell_type": "code",
   "execution_count": 4,
   "metadata": {},
   "outputs": [
    {
     "name": "stdout",
     "output_type": "stream",
     "text": [
      "Enter a string 1:malam\n",
      "Enter a string 2:malam\n",
      "The string is a palindrome\n"
     ]
    }
   ],
   "source": [
    "string1 =input((\"Enter a string 1:\"))\n",
    "string2 = input((\"Enter a string 2:\"))\n",
    "\n",
    "if(string1==string2[::-1]):                                            #Checking Palindrome\n",
    "      print(\"The string is a palindrome\")\n",
    "        \n",
    "\n",
    "elif (sorted(string1)== sorted(string2)):                              #Checking Anagram          \n",
    "      print(\"The strings are anagrams.\")\n",
    "\n",
    "else:\n",
    "      print(\"Not a palindrome nor Anagram\")\n",
    "      "
   ]
  },
  {
   "cell_type": "code",
   "execution_count": 5,
   "metadata": {},
   "outputs": [
    {
     "name": "stdout",
     "output_type": "stream",
     "text": [
      "Enter a string 1:listen\n",
      "Enter a string 2:silent\n",
      "The strings are anagrams.\n"
     ]
    }
   ],
   "source": [
    "string1 =input((\"Enter a string 1:\"))\n",
    "string2 = input((\"Enter a string 2:\"))\n",
    "\n",
    "if(string1==string2[::-1]):                                            #Checking Palindrome\n",
    "      print(\"The string is a palindrome\")\n",
    "        \n",
    "\n",
    "elif (sorted(string1)== sorted(string2)):                              #Checking Anagram          \n",
    "      print(\"The strings are anagrams.\")\n",
    "\n",
    "else:\n",
    "      print(\"Not a palindrome nor Anagram\")"
   ]
  },
  {
   "cell_type": "markdown",
   "metadata": {},
   "source": [
    "# Question 4:\n",
    "Write a Python's user-defined function that removes all the additional characters from the string and\n",
    "convert it finally to lower case using built-in lower(). eg: If the string is \"Dr. Darshan Ingle @AIML Trainer\",\n",
    "then the output be \"drdarshaningleaimltrainer\"."
   ]
  },
  {
   "cell_type": "code",
   "execution_count": 17,
   "metadata": {},
   "outputs": [
    {
     "name": "stdout",
     "output_type": "stream",
     "text": [
      "initial string :  Dr. Darshan Ingle @AIML Trainer\n",
      "final string is :  drdarshaningleaimltrainer\n"
     ]
    }
   ],
   "source": [
    "def unwantedchar():\n",
    "    import re \n",
    "  \n",
    " #initialising string \n",
    "string = \"Dr. Darshan Ingle @AIML Trainer\"\n",
    "  \n",
    "# printing initial string \n",
    "print (\"initial string : \",string) \n",
    "  \n",
    "# function to demonstrate removal of characters \n",
    "\n",
    "# which are not numbers and alphabets using re \n",
    "getVals = list([val for val in string \n",
    "               if val.isalpha() or val.isnumeric()]) \n",
    "  \n",
    "result = \"\".join(getVals) \n",
    "\n",
    "x=result.lower()     #using built in function lower()\n",
    "  \n",
    "# printing final string \n",
    "print (\"final string is : \",x) \n",
    "    "
   ]
  },
  {
   "cell_type": "code",
   "execution_count": null,
   "metadata": {},
   "outputs": [],
   "source": []
  }
 ],
 "metadata": {
  "kernelspec": {
   "display_name": "Python 3",
   "language": "python",
   "name": "python3"
  },
  "language_info": {
   "codemirror_mode": {
    "name": "ipython",
    "version": 3
   },
   "file_extension": ".py",
   "mimetype": "text/x-python",
   "name": "python",
   "nbconvert_exporter": "python",
   "pygments_lexer": "ipython3",
   "version": "3.7.6"
  }
 },
 "nbformat": 4,
 "nbformat_minor": 4
}
