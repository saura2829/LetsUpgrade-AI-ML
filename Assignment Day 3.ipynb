{
 "cells": [
  {
   "cell_type": "markdown",
   "metadata": {},
   "source": [
    "# Question 1:\n",
    "Write a program to subtract two complex numbers in Python.\n"
   ]
  },
  {
   "cell_type": "code",
   "execution_count": 2,
   "metadata": {},
   "outputs": [
    {
     "name": "stdout",
     "output_type": "stream",
     "text": [
      "Subtraction is :  (5+6j)\n"
     ]
    }
   ],
   "source": [
    "def sub( z1, z2): \n",
    "    return z1-z2 \n",
    "  \n",
    "# driver program \n",
    "k1 = complex(9, 13) \n",
    "k2 = complex(4, 7) \n",
    "print( \"Subtraction is : \", sub(k1, k2))"
   ]
  },
  {
   "cell_type": "markdown",
   "metadata": {},
   "source": [
    "# Question 2 :\n",
    "Write a program to find the fourth root of a number."
   ]
  },
  {
   "cell_type": "code",
   "execution_count": 9,
   "metadata": {},
   "outputs": [
    {
     "name": "stdout",
     "output_type": "stream",
     "text": [
      " Please Enter any numeric Value : 16\n",
      "The Square Root of a Given Number is :   2.0\n"
     ]
    }
   ],
   "source": [
    "# Python Fourth root program\n",
    "\n",
    "import math\n",
    "\n",
    "number = float(input(\" Please Enter any numeric Value : \"))\n",
    "\n",
    "fourthRoot = math.pow(number, 0.25)\n",
    "\n",
    "print(\"The Square Root of a Given Number is :  \", fourthRoot)"
   ]
  },
  {
   "cell_type": "markdown",
   "metadata": {},
   "source": [
    "# Question 3:\n",
    "Write a program to swap two numbers in Python with the help of a temporary variable."
   ]
  },
  {
   "cell_type": "code",
   "execution_count": 19,
   "metadata": {},
   "outputs": [
    {
     "name": "stdout",
     "output_type": "stream",
     "text": [
      "Enter value of x: 4\n",
      "Enter value of y: 5\n",
      "The value of x after swapping:  5\n",
      "The value of y after swapping:  4\n"
     ]
    }
   ],
   "source": [
    "# Python program to swap two variables\n",
    "\n",
    "x = input('Enter value of x: ')\n",
    "y = input('Enter value of y: ')\n",
    "\n",
    "\n",
    "\n",
    "# create a temporary variable and swap the values\n",
    "temp = x\n",
    "x = y\n",
    "y = temp\n",
    "\n",
    "print('The value of x after swapping: ',x)\n",
    "print('The value of y after swapping: ',y)"
   ]
  },
  {
   "cell_type": "markdown",
   "metadata": {},
   "source": [
    "# Question 4:\n",
    "Write a program to swap two numbers in Python without using a temporary variable."
   ]
  },
  {
   "cell_type": "code",
   "execution_count": 18,
   "metadata": {},
   "outputs": [
    {
     "name": "stdout",
     "output_type": "stream",
     "text": [
      "Enter value of x: 4\n",
      "Enter value of y: 5\n",
      "Before swapping: \n",
      "Value of x :  4  and y :  5\n",
      "After swapping: \n",
      "Value of x :  5  and y :  4\n"
     ]
    }
   ],
   "source": [
    "x = input('Enter value of x: ')\n",
    "y = input('Enter value of y: ')\n",
    "print (\"Before swapping: \") \n",
    "print(\"Value of x : \", x, \" and y : \", y) \n",
    "  \n",
    "# code to swap 'x' and 'y' \n",
    "\n",
    "x, y = y, x \n",
    "  \n",
    "print (\"After swapping: \") \n",
    "print(\"Value of x : \", x, \" and y : \", y) "
   ]
  },
  {
   "cell_type": "markdown",
   "metadata": {},
   "source": [
    "# Question 5:\n",
    "Write a program to convert Fahrenheit to kelvin and celsius both."
   ]
  },
  {
   "cell_type": "code",
   "execution_count": 26,
   "metadata": {},
   "outputs": [
    {
     "name": "stdout",
     "output_type": "stream",
     "text": [
      "The temprature in fahrenheit: 10\n",
      "The temprature in Kelvin:  261.27777777777777\n"
     ]
    }
   ],
   "source": [
    "# Fahrenheit to Kelvin\n",
    "\n",
    "fahrenheit=float(input(\"The temprature in fahrenheit: \"))\n",
    "\n",
    "Kelvin=273.5 + ((fahrenheit- 32.0) * (5.0/9.0))\n",
    "\n",
    "print(\"The temprature in Kelvin: \",Kelvin) \n",
    "\n"
   ]
  },
  {
   "cell_type": "code",
   "execution_count": 27,
   "metadata": {},
   "outputs": [
    {
     "name": "stdout",
     "output_type": "stream",
     "text": [
      "The temprature in fahrenheit: 99\n",
      "The temprature in Celsius:  37.22222222222222\n"
     ]
    }
   ],
   "source": [
    "# Fahrenheit to Celsius\n",
    "\n",
    "fahrenheit=float(input(\"The temprature in fahrenheit: \"))\n",
    "\n",
    "celsius = (fahrenheit - 32) / 1.8\n",
    "\n",
    "print(\"The temprature in Celsius: \",celsius) "
   ]
  },
  {
   "cell_type": "markdown",
   "metadata": {},
   "source": [
    "# Question 6:\n",
    "Write a program to demonstrate all the available data types in Python. Hint: Use type() function."
   ]
  },
  {
   "cell_type": "code",
   "execution_count": 4,
   "metadata": {},
   "outputs": [
    {
     "name": "stdout",
     "output_type": "stream",
     "text": [
      "The Data Type is :  <class 'str'>\n"
     ]
    }
   ],
   "source": [
    "#String\n",
    "\n",
    "x=\"Hello\"\n",
    "\n",
    "y=type(x)\n",
    "\n",
    "print(\"The Data Type is : \",y)"
   ]
  },
  {
   "cell_type": "code",
   "execution_count": 5,
   "metadata": {},
   "outputs": [
    {
     "name": "stdout",
     "output_type": "stream",
     "text": [
      "The Data Type is :  <class 'int'>\n"
     ]
    }
   ],
   "source": [
    "#Integer\n",
    "\n",
    "x=3\n",
    "\n",
    "y=type(x)\n",
    "\n",
    "print(\"The Data Type is : \",y)\n"
   ]
  },
  {
   "cell_type": "code",
   "execution_count": 7,
   "metadata": {},
   "outputs": [
    {
     "name": "stdout",
     "output_type": "stream",
     "text": [
      "The Data Type is :  <class 'float'>\n"
     ]
    }
   ],
   "source": [
    "#Float\n",
    "\n",
    "x=3.2\n",
    "\n",
    "y=type(x)\n",
    "\n",
    "print(\"The Data Type is : \",y)\n"
   ]
  },
  {
   "cell_type": "code",
   "execution_count": 8,
   "metadata": {},
   "outputs": [
    {
     "name": "stdout",
     "output_type": "stream",
     "text": [
      "The Data Type is :  <class 'complex'>\n"
     ]
    }
   ],
   "source": [
    "#Complex\n",
    "\n",
    "#Float\n",
    "\n",
    "x=1+2j\n",
    "\n"
   ]
  },
  {
   "cell_type": "code",
   "execution_count": 9,
   "metadata": {},
   "outputs": [
    {
     "name": "stdout",
     "output_type": "stream",
     "text": [
      "The Data Type is :  <class 'list'>\n"
     ]
    }
   ],
   "source": [
    "#list\n",
    "\n",
    "x = [\"apple\", \"banana\", \"cherry\"]\n",
    "\n",
    "y=type(x)\n",
    "\n",
    "print(\"The Data Type is : \",y)"
   ]
  },
  {
   "cell_type": "code",
   "execution_count": 12,
   "metadata": {},
   "outputs": [
    {
     "name": "stdout",
     "output_type": "stream",
     "text": [
      "The Data Type is :  <class 'set'>\n"
     ]
    }
   ],
   "source": [
    "#set\n",
    "\n",
    "x = {\"apple\", \"banana\", \"cherry\"}\n",
    "\n",
    "y=type(x)\n",
    "\n",
    "print(\"The Data Type is : \",y)"
   ]
  },
  {
   "cell_type": "code",
   "execution_count": 10,
   "metadata": {},
   "outputs": [
    {
     "name": "stdout",
     "output_type": "stream",
     "text": [
      "The Data Type is :  <class 'dict'>\n"
     ]
    }
   ],
   "source": [
    "#dict\n",
    "x = {\"name\" : \"John\", \"age\" : 36} \n",
    "\n",
    "y=type(x)\n",
    "\n",
    "print(\"The Data Type is : \",y)\n"
   ]
  },
  {
   "cell_type": "code",
   "execution_count": 11,
   "metadata": {},
   "outputs": [
    {
     "name": "stdout",
     "output_type": "stream",
     "text": [
      "The Data Type is :  <class 'tuple'>\n"
     ]
    }
   ],
   "source": [
    "#tuple\n",
    "x = (\"apple\", \"banana\", \"cherry\") \n",
    "\n",
    "y=type(x)\n",
    "\n",
    "print(\"The Data Type is : \",y)\n"
   ]
  },
  {
   "cell_type": "code",
   "execution_count": null,
   "metadata": {},
   "outputs": [],
   "source": []
  }
 ],
 "metadata": {
  "kernelspec": {
   "display_name": "Python 3",
   "language": "python",
   "name": "python3"
  },
  "language_info": {
   "codemirror_mode": {
    "name": "ipython",
    "version": 3
   },
   "file_extension": ".py",
   "mimetype": "text/x-python",
   "name": "python",
   "nbconvert_exporter": "python",
   "pygments_lexer": "ipython3",
   "version": "3.7.6"
  }
 },
 "nbformat": 4,
 "nbformat_minor": 4
}
