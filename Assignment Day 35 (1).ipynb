{
 "cells": [
  {
   "cell_type": "markdown",
   "metadata": {},
   "source": [
    "# Question : Use the User dataset perform Random Forest and compare with Decision Tree."
   ]
  },
  {
   "cell_type": "code",
   "execution_count": 4,
   "metadata": {},
   "outputs": [],
   "source": [
    "import pandas as pd"
   ]
  },
  {
   "cell_type": "code",
   "execution_count": 5,
   "metadata": {},
   "outputs": [],
   "source": [
    "#Load dataset\n",
    "df = pd.read_csv(\"User_Data - Arindam Dev (1).csv\")"
   ]
  },
  {
   "cell_type": "code",
   "execution_count": 7,
   "metadata": {},
   "outputs": [],
   "source": [
    "X = df.iloc[:, [2, 3]].values  \n",
    "y = df.iloc[:, 4].values "
   ]
  },
  {
   "cell_type": "code",
   "execution_count": 8,
   "metadata": {},
   "outputs": [],
   "source": [
    "# Import train_test_split function\n",
    "from sklearn.model_selection import train_test_split\n",
    "\n",
    "# Split dataset into training set and test set\n",
    "X_train, X_test, y_train, y_test = train_test_split(X, y,test_size=0.3)"
   ]
  },
  {
   "cell_type": "code",
   "execution_count": 44,
   "metadata": {},
   "outputs": [
    {
     "data": {
      "text/plain": [
       "DecisionTreeClassifier(ccp_alpha=0.0, class_weight=None, criterion='entropy',\n",
       "                       max_depth=None, max_features=None, max_leaf_nodes=None,\n",
       "                       min_impurity_decrease=0.0, min_impurity_split=None,\n",
       "                       min_samples_leaf=1, min_samples_split=2,\n",
       "                       min_weight_fraction_leaf=0.0, presort='deprecated',\n",
       "                       random_state=0, splitter='best')"
      ]
     },
     "execution_count": 44,
     "metadata": {},
     "output_type": "execute_result"
    }
   ],
   "source": [
    "#Fitting Decision Tree classifier to the training set  \n",
    "from sklearn.tree import DecisionTreeClassifier  \n",
    "classifier= DecisionTreeClassifier(criterion='entropy', random_state=0)  \n",
    "classifier.fit(X_train, y_train)  "
   ]
  },
  {
   "cell_type": "code",
   "execution_count": 45,
   "metadata": {},
   "outputs": [],
   "source": [
    "#Predicting the test set result  \n",
    "y_pred= classifier.predict(X_test)"
   ]
  },
  {
   "cell_type": "code",
   "execution_count": 46,
   "metadata": {},
   "outputs": [],
   "source": [
    "#Creating the Confusion matrix  \n",
    "from sklearn.metrics import confusion_matrix  \n",
    "cm= confusion_matrix(y_test, y_pred)"
   ]
  },
  {
   "cell_type": "code",
   "execution_count": 47,
   "metadata": {},
   "outputs": [
    {
     "data": {
      "text/plain": [
       "array([[68,  9],\n",
       "       [ 8, 35]], dtype=int64)"
      ]
     },
     "execution_count": 47,
     "metadata": {},
     "output_type": "execute_result"
    }
   ],
   "source": [
    "cm"
   ]
  },
  {
   "cell_type": "code",
   "execution_count": 48,
   "metadata": {},
   "outputs": [
    {
     "data": {
      "text/plain": [
       "[Text(173.91, 209.6742857142857, 'X[0] <= 44.5\\nentropy = 0.94\\nsamples = 280\\nvalue = [180, 100]'),\n",
       " Text(104.16000000000001, 194.14285714285714, 'X[1] <= 89500.0\\nentropy = 0.681\\nsamples = 205\\nvalue = [168, 37]'),\n",
       " Text(66.96000000000001, 178.61142857142858, 'X[0] <= 36.5\\nentropy = 0.222\\nsamples = 168\\nvalue = [162, 6]'),\n",
       " Text(59.52, 163.07999999999998, 'entropy = 0.0\\nsamples = 110\\nvalue = [110, 0]'),\n",
       " Text(74.4, 163.07999999999998, 'X[1] <= 68000.0\\nentropy = 0.48\\nsamples = 58\\nvalue = [52, 6]'),\n",
       " Text(66.96000000000001, 147.54857142857142, 'entropy = 0.0\\nsamples = 30\\nvalue = [30, 0]'),\n",
       " Text(81.84, 147.54857142857142, 'X[1] <= 83500.0\\nentropy = 0.75\\nsamples = 28\\nvalue = [22, 6]'),\n",
       " Text(74.4, 132.01714285714286, 'X[0] <= 41.5\\nentropy = 0.691\\nsamples = 27\\nvalue = [22, 5]'),\n",
       " Text(59.52, 116.48571428571428, 'X[0] <= 40.5\\nentropy = 0.559\\nsamples = 23\\nvalue = [20, 3]'),\n",
       " Text(52.080000000000005, 100.9542857142857, 'X[1] <= 79500.0\\nentropy = 0.65\\nsamples = 18\\nvalue = [15, 3]'),\n",
       " Text(44.64, 85.42285714285714, 'X[1] <= 78500.0\\nentropy = 0.722\\nsamples = 15\\nvalue = [12, 3]'),\n",
       " Text(29.76, 69.89142857142858, 'X[0] <= 38.5\\nentropy = 0.619\\nsamples = 13\\nvalue = [11, 2]'),\n",
       " Text(22.32, 54.359999999999985, 'entropy = 0.0\\nsamples = 5\\nvalue = [5, 0]'),\n",
       " Text(37.2, 54.359999999999985, 'X[1] <= 76000.0\\nentropy = 0.811\\nsamples = 8\\nvalue = [6, 2]'),\n",
       " Text(29.76, 38.82857142857142, 'X[0] <= 39.5\\nentropy = 0.918\\nsamples = 6\\nvalue = [4, 2]'),\n",
       " Text(14.88, 23.29714285714286, 'X[1] <= 74000.0\\nentropy = 0.811\\nsamples = 4\\nvalue = [3, 1]'),\n",
       " Text(7.44, 7.765714285714267, 'entropy = 0.0\\nsamples = 3\\nvalue = [3, 0]'),\n",
       " Text(22.32, 7.765714285714267, 'entropy = 0.0\\nsamples = 1\\nvalue = [0, 1]'),\n",
       " Text(44.64, 23.29714285714286, 'X[1] <= 73000.0\\nentropy = 1.0\\nsamples = 2\\nvalue = [1, 1]'),\n",
       " Text(37.2, 7.765714285714267, 'entropy = 0.0\\nsamples = 1\\nvalue = [0, 1]'),\n",
       " Text(52.080000000000005, 7.765714285714267, 'entropy = 0.0\\nsamples = 1\\nvalue = [1, 0]'),\n",
       " Text(44.64, 38.82857142857142, 'entropy = 0.0\\nsamples = 2\\nvalue = [2, 0]'),\n",
       " Text(59.52, 69.89142857142858, 'X[0] <= 38.0\\nentropy = 1.0\\nsamples = 2\\nvalue = [1, 1]'),\n",
       " Text(52.080000000000005, 54.359999999999985, 'entropy = 0.0\\nsamples = 1\\nvalue = [0, 1]'),\n",
       " Text(66.96000000000001, 54.359999999999985, 'entropy = 0.0\\nsamples = 1\\nvalue = [1, 0]'),\n",
       " Text(59.52, 85.42285714285714, 'entropy = 0.0\\nsamples = 3\\nvalue = [3, 0]'),\n",
       " Text(66.96000000000001, 100.9542857142857, 'entropy = 0.0\\nsamples = 5\\nvalue = [5, 0]'),\n",
       " Text(89.28, 116.48571428571428, 'X[1] <= 74000.0\\nentropy = 1.0\\nsamples = 4\\nvalue = [2, 2]'),\n",
       " Text(81.84, 100.9542857142857, 'entropy = 0.0\\nsamples = 1\\nvalue = [0, 1]'),\n",
       " Text(96.72, 100.9542857142857, 'X[1] <= 77500.0\\nentropy = 0.918\\nsamples = 3\\nvalue = [2, 1]'),\n",
       " Text(89.28, 85.42285714285714, 'entropy = 0.0\\nsamples = 1\\nvalue = [1, 0]'),\n",
       " Text(104.16000000000001, 85.42285714285714, 'entropy = 1.0\\nsamples = 2\\nvalue = [1, 1]'),\n",
       " Text(89.28, 132.01714285714286, 'entropy = 0.0\\nsamples = 1\\nvalue = [0, 1]'),\n",
       " Text(141.36, 178.61142857142858, 'X[0] <= 26.5\\nentropy = 0.639\\nsamples = 37\\nvalue = [6, 31]'),\n",
       " Text(133.92000000000002, 163.07999999999998, 'entropy = 0.0\\nsamples = 2\\nvalue = [2, 0]'),\n",
       " Text(148.8, 163.07999999999998, 'X[1] <= 107500.0\\nentropy = 0.513\\nsamples = 35\\nvalue = [4, 31]'),\n",
       " Text(141.36, 147.54857142857142, 'entropy = 0.0\\nsamples = 11\\nvalue = [0, 11]'),\n",
       " Text(156.24, 147.54857142857142, 'X[1] <= 115000.0\\nentropy = 0.65\\nsamples = 24\\nvalue = [4, 20]'),\n",
       " Text(141.36, 132.01714285714286, 'X[0] <= 40.5\\nentropy = 0.971\\nsamples = 5\\nvalue = [3, 2]'),\n",
       " Text(133.92000000000002, 116.48571428571428, 'X[0] <= 34.5\\nentropy = 0.811\\nsamples = 4\\nvalue = [3, 1]'),\n",
       " Text(126.48, 100.9542857142857, 'X[1] <= 112500.0\\nentropy = 1.0\\nsamples = 2\\nvalue = [1, 1]'),\n",
       " Text(119.04, 85.42285714285714, 'entropy = 0.0\\nsamples = 1\\nvalue = [0, 1]'),\n",
       " Text(133.92000000000002, 85.42285714285714, 'entropy = 0.0\\nsamples = 1\\nvalue = [1, 0]'),\n",
       " Text(141.36, 100.9542857142857, 'entropy = 0.0\\nsamples = 2\\nvalue = [2, 0]'),\n",
       " Text(148.8, 116.48571428571428, 'entropy = 0.0\\nsamples = 1\\nvalue = [0, 1]'),\n",
       " Text(171.12, 132.01714285714286, 'X[0] <= 42.5\\nentropy = 0.297\\nsamples = 19\\nvalue = [1, 18]'),\n",
       " Text(163.68, 116.48571428571428, 'entropy = 0.0\\nsamples = 17\\nvalue = [0, 17]'),\n",
       " Text(178.56, 116.48571428571428, 'X[1] <= 131000.0\\nentropy = 1.0\\nsamples = 2\\nvalue = [1, 1]'),\n",
       " Text(171.12, 100.9542857142857, 'entropy = 0.0\\nsamples = 1\\nvalue = [0, 1]'),\n",
       " Text(186.0, 100.9542857142857, 'entropy = 0.0\\nsamples = 1\\nvalue = [1, 0]'),\n",
       " Text(243.66000000000003, 194.14285714285714, 'X[1] <= 46500.0\\nentropy = 0.634\\nsamples = 75\\nvalue = [12, 63]'),\n",
       " Text(236.22, 178.61142857142858, 'entropy = 0.0\\nsamples = 26\\nvalue = [0, 26]'),\n",
       " Text(251.10000000000002, 178.61142857142858, 'X[0] <= 46.5\\nentropy = 0.803\\nsamples = 49\\nvalue = [12, 37]'),\n",
       " Text(215.76000000000002, 163.07999999999998, 'X[1] <= 106500.0\\nentropy = 0.863\\nsamples = 7\\nvalue = [5, 2]'),\n",
       " Text(208.32000000000002, 147.54857142857142, 'X[1] <= 76500.0\\nentropy = 0.65\\nsamples = 6\\nvalue = [5, 1]'),\n",
       " Text(200.88000000000002, 132.01714285714286, 'entropy = 0.0\\nsamples = 2\\nvalue = [2, 0]'),\n",
       " Text(215.76000000000002, 132.01714285714286, 'X[1] <= 80500.0\\nentropy = 0.811\\nsamples = 4\\nvalue = [3, 1]'),\n",
       " Text(208.32000000000002, 116.48571428571428, 'X[0] <= 45.5\\nentropy = 1.0\\nsamples = 2\\nvalue = [1, 1]'),\n",
       " Text(200.88000000000002, 100.9542857142857, 'entropy = 0.0\\nsamples = 1\\nvalue = [1, 0]'),\n",
       " Text(215.76000000000002, 100.9542857142857, 'entropy = 0.0\\nsamples = 1\\nvalue = [0, 1]'),\n",
       " Text(223.20000000000002, 116.48571428571428, 'entropy = 0.0\\nsamples = 2\\nvalue = [2, 0]'),\n",
       " Text(223.20000000000002, 147.54857142857142, 'entropy = 0.0\\nsamples = 1\\nvalue = [0, 1]'),\n",
       " Text(286.44, 163.07999999999998, 'X[0] <= 52.5\\nentropy = 0.65\\nsamples = 42\\nvalue = [7, 35]'),\n",
       " Text(260.40000000000003, 147.54857142857142, 'X[1] <= 80000.0\\nentropy = 0.845\\nsamples = 22\\nvalue = [6, 16]'),\n",
       " Text(245.52, 132.01714285714286, 'X[0] <= 48.0\\nentropy = 0.971\\nsamples = 5\\nvalue = [3, 2]'),\n",
       " Text(238.08, 116.48571428571428, 'X[1] <= 48500.0\\nentropy = 0.918\\nsamples = 3\\nvalue = [1, 2]'),\n",
       " Text(230.64000000000001, 100.9542857142857, 'entropy = 0.0\\nsamples = 1\\nvalue = [1, 0]'),\n",
       " Text(245.52, 100.9542857142857, 'entropy = 0.0\\nsamples = 2\\nvalue = [0, 2]'),\n",
       " Text(252.96, 116.48571428571428, 'entropy = 0.0\\nsamples = 2\\nvalue = [2, 0]'),\n",
       " Text(275.28000000000003, 132.01714285714286, 'X[1] <= 113500.0\\nentropy = 0.672\\nsamples = 17\\nvalue = [3, 14]'),\n",
       " Text(267.84000000000003, 116.48571428571428, 'entropy = 0.0\\nsamples = 7\\nvalue = [0, 7]'),\n",
       " Text(282.72, 116.48571428571428, 'X[1] <= 122500.0\\nentropy = 0.881\\nsamples = 10\\nvalue = [3, 7]'),\n",
       " Text(275.28000000000003, 100.9542857142857, 'entropy = 0.0\\nsamples = 1\\nvalue = [1, 0]'),\n",
       " Text(290.16, 100.9542857142857, 'X[1] <= 142500.0\\nentropy = 0.764\\nsamples = 9\\nvalue = [2, 7]'),\n",
       " Text(282.72, 85.42285714285714, 'X[0] <= 50.0\\nentropy = 0.918\\nsamples = 6\\nvalue = [2, 4]'),\n",
       " Text(275.28000000000003, 69.89142857142858, 'X[1] <= 139500.0\\nentropy = 0.722\\nsamples = 5\\nvalue = [1, 4]'),\n",
       " Text(267.84000000000003, 54.359999999999985, 'entropy = 0.0\\nsamples = 3\\nvalue = [0, 3]'),\n",
       " Text(282.72, 54.359999999999985, 'X[0] <= 48.5\\nentropy = 1.0\\nsamples = 2\\nvalue = [1, 1]'),\n",
       " Text(275.28000000000003, 38.82857142857142, 'entropy = 0.0\\nsamples = 1\\nvalue = [1, 0]'),\n",
       " Text(290.16, 38.82857142857142, 'entropy = 0.0\\nsamples = 1\\nvalue = [0, 1]'),\n",
       " Text(290.16, 69.89142857142858, 'entropy = 0.0\\nsamples = 1\\nvalue = [1, 0]'),\n",
       " Text(297.6, 85.42285714285714, 'entropy = 0.0\\nsamples = 3\\nvalue = [0, 3]'),\n",
       " Text(312.48, 147.54857142857142, 'X[0] <= 58.5\\nentropy = 0.286\\nsamples = 20\\nvalue = [1, 19]'),\n",
       " Text(305.04, 132.01714285714286, 'entropy = 0.0\\nsamples = 15\\nvalue = [0, 15]'),\n",
       " Text(319.92, 132.01714285714286, 'X[1] <= 85500.0\\nentropy = 0.722\\nsamples = 5\\nvalue = [1, 4]'),\n",
       " Text(312.48, 116.48571428571428, 'X[0] <= 59.5\\nentropy = 1.0\\nsamples = 2\\nvalue = [1, 1]'),\n",
       " Text(305.04, 100.9542857142857, 'entropy = 0.0\\nsamples = 1\\nvalue = [1, 0]'),\n",
       " Text(319.92, 100.9542857142857, 'entropy = 0.0\\nsamples = 1\\nvalue = [0, 1]'),\n",
       " Text(327.36, 116.48571428571428, 'entropy = 0.0\\nsamples = 3\\nvalue = [0, 3]')]"
      ]
     },
     "execution_count": 48,
     "metadata": {},
     "output_type": "execute_result"
    },
    {
     "data": {
      "image/png": "[encoded data removed]",
      "text/plain": [
       "<Figure size 432x288 with 1 Axes>"
      ]
     },
     "metadata": {
      "needs_background": "light"
     },
     "output_type": "display_data"
    }
   ],
   "source": [
    "tree.plot_tree(classifier)"
   ]
  },
  {
   "cell_type": "code",
   "execution_count": 49,
   "metadata": {},
   "outputs": [
    {
     "name": "stdout",
     "output_type": "stream",
     "text": [
      "The classification report is as follows...\n",
      "\n",
      "              precision    recall  f1-score   support\n",
      "\n",
      "           0       0.89      0.88      0.89        77\n",
      "           1       0.80      0.81      0.80        43\n",
      "\n",
      "    accuracy                           0.86       120\n",
      "   macro avg       0.85      0.85      0.85       120\n",
      "weighted avg       0.86      0.86      0.86       120\n",
      "\n",
      "Accuracy is :  0.8583333333333333\n"
     ]
    }
   ],
   "source": [
    "from sklearn.metrics import classification_report,accuracy_score\n",
    "\n",
    "print(\"The classification report is as follows...\\n\")\n",
    "print(classification_report(y_test, y_pred))\n",
    "result0 = accuracy_score(y_test,y_pred)\n",
    "print(\"Accuracy is : \",result0)"
   ]
  },
  {
   "cell_type": "markdown",
   "metadata": {},
   "source": [
    "# Random Forest Classifier"
   ]
  },
  {
   "cell_type": "code",
   "execution_count": 39,
   "metadata": {},
   "outputs": [
    {
     "data": {
      "text/plain": [
       "RandomForestClassifier(bootstrap=True, ccp_alpha=0.0, class_weight=None,\n",
       "                       criterion='gini', max_depth=None, max_features='auto',\n",
       "                       max_leaf_nodes=None, max_samples=None,\n",
       "                       min_impurity_decrease=0.0, min_impurity_split=None,\n",
       "                       min_samples_leaf=1, min_samples_split=2,\n",
       "                       min_weight_fraction_leaf=0.0, n_estimators=50,\n",
       "                       n_jobs=None, oob_score=False, random_state=None,\n",
       "                       verbose=0, warm_start=False)"
      ]
     },
     "execution_count": 39,
     "metadata": {},
     "output_type": "execute_result"
    }
   ],
   "source": [
    "from sklearn.ensemble import RandomForestClassifier\n",
    "classifier = RandomForestClassifier(n_estimators = 50)\n",
    "classifier.fit(X_train, y_train)"
   ]
  },
  {
   "cell_type": "code",
   "execution_count": 40,
   "metadata": {},
   "outputs": [],
   "source": [
    "y_pred = classifier.predict(X_test)"
   ]
  },
  {
   "cell_type": "code",
   "execution_count": 41,
   "metadata": {},
   "outputs": [
    {
     "name": "stdout",
     "output_type": "stream",
     "text": [
      "Confusion Matrix:\n",
      "[[71  6]\n",
      " [ 5 38]]\n",
      "Classification Report:\n",
      "              precision    recall  f1-score   support\n",
      "\n",
      "           0       0.93      0.92      0.93        77\n",
      "           1       0.86      0.88      0.87        43\n",
      "\n",
      "    accuracy                           0.91       120\n",
      "   macro avg       0.90      0.90      0.90       120\n",
      "weighted avg       0.91      0.91      0.91       120\n",
      "\n",
      "Accuracy: 0.9083333333333333\n"
     ]
    }
   ],
   "source": [
    "from sklearn.metrics import classification_report, confusion_matrix, accuracy_score\n",
    "result = confusion_matrix(y_test, y_pred)\n",
    "print(\"Confusion Matrix:\")\n",
    "print(result)\n",
    "result1 = classification_report(y_test, y_pred)\n",
    "print(\"Classification Report:\",)\n",
    "print (result1)\n",
    "result2 = accuracy_score(y_test,y_pred)\n",
    "print(\"Accuracy:\",result2)"
   ]
  },
  {
   "cell_type": "markdown",
   "metadata": {},
   "source": [
    "# Comparision of Accuracy of Decision Tree and Random Forest Classifier"
   ]
  },
  {
   "cell_type": "code",
   "execution_count": 50,
   "metadata": {},
   "outputs": [
    {
     "name": "stdout",
     "output_type": "stream",
     "text": [
      "Decision Tree Accuracy is :  0.8583333333333333 \n",
      "\n",
      "Random Forest Classifier Accuracy is :  0.9083333333333333\n"
     ]
    }
   ],
   "source": [
    "print(\"Decision Tree Accuracy is : \",result0,\"\\n\")\n",
    "\n",
    "print(\"Random Forest Classifier Accuracy is : \",result2)"
   ]
  },
  {
   "cell_type": "code",
   "execution_count": null,
   "metadata": {},
   "outputs": [],
   "source": []
  }
 ],
 "metadata": {
  "kernelspec": {
   "display_name": "Python 3",
   "language": "python",
   "name": "python3"
  },
  "language_info": {
   "codemirror_mode": {
    "name": "ipython",
    "version": 3
   },
   "file_extension": ".py",
   "mimetype": "text/x-python",
   "name": "python",
   "nbconvert_exporter": "python",
   "pygments_lexer": "ipython3",
   "version": "3.7.6"
  }
 },
 "nbformat": 4,
 "nbformat_minor": 4
}
