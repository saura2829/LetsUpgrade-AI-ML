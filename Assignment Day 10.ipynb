{
 "cells": [
  {
   "cell_type": "markdown",
   "metadata": {},
   "source": [
    "# Question 1:\n",
    "Create an element-wise comparison (greater, greater_equal, less and less_equal) of two given arrays"
   ]
  },
  {
   "cell_type": "code",
   "execution_count": 6,
   "metadata": {},
   "outputs": [
    {
     "name": "stdout",
     "output_type": "stream",
     "text": [
      "Original numbers:\n",
      "[ 6 10]\n",
      "[12  5]\n",
      "Comparison - greater : \n",
      "[False  True]\n",
      "Comparison - greater_equal : \n",
      "[False  True]\n",
      "Comparison - less : \n",
      "[ True False]\n",
      "Comparison - less_equal : \n",
      "[ True False]\n"
     ]
    }
   ],
   "source": [
    "import numpy as np\n",
    "x = np.array([6, 10])\n",
    "y = np.array([12, 5])\n",
    "print(\"Original numbers:\")\n",
    "print(x)\n",
    "print(y)\n",
    "\n",
    "print(\"Comparison - greater : \")\n",
    "print(np.greater(x, y))\n",
    "\n",
    "print(\"Comparison - greater_equal : \")\n",
    "print(np.greater_equal(x, y))\n",
    "\n",
    "print(\"Comparison - less : \")\n",
    "print(np.less(x, y))\n",
    "\n",
    "print(\"Comparison - less_equal : \")\n",
    "print(np.less_equal(x, y))"
   ]
  },
  {
   "cell_type": "markdown",
   "metadata": {},
   "source": [
    "# Question 2:\n",
    "Write a NumPy program to create an array of 10 zeros,10 ones, 10 fives"
   ]
  },
  {
   "cell_type": "code",
   "execution_count": 5,
   "metadata": {},
   "outputs": [
    {
     "name": "stdout",
     "output_type": "stream",
     "text": [
      "An array of 10 zeros:\n",
      "[0. 0. 0. 0. 0. 0. 0. 0. 0. 0.]\n",
      "An array of 10 ones:\n",
      "[1. 1. 1. 1. 1. 1. 1. 1. 1. 1.]\n",
      "An array of 10 fives:\n",
      "[5. 5. 5. 5. 5. 5. 5. 5. 5. 5.]\n"
     ]
    }
   ],
   "source": [
    "import numpy as np\n",
    "\n",
    "#Array of 10 zeros\n",
    "array=np.zeros(10)\n",
    "print(\"An array of 10 zeros:\")\n",
    "print(array)\n",
    "\n",
    "#Array of 10 ones\n",
    "array1=np.ones(10)\n",
    "print(\"An array of 10 ones:\")\n",
    "print(array1)\n",
    "\n",
    "#Array of 10 fives\n",
    "array2=np.ones(10)*5\n",
    "print(\"An array of 10 fives:\")\n",
    "print(array2)"
   ]
  },
  {
   "cell_type": "markdown",
   "metadata": {},
   "source": [
    "# Question 3:\n",
    "Write a NumPy program to compute sum of all elements, sum of each column and sum of each row of a\n",
    "given array."
   ]
  },
  {
   "cell_type": "code",
   "execution_count": 9,
   "metadata": {},
   "outputs": [
    {
     "name": "stdout",
     "output_type": "stream",
     "text": [
      "Original array:\n",
      "[[5 6]\n",
      " [7 8]]\n",
      "Sum of all elements:\n",
      "26\n",
      "Sum of each column:\n",
      "[12 14]\n",
      "Sum of each row:\n",
      "[11 15]\n"
     ]
    }
   ],
   "source": [
    "import numpy as np\n",
    "x = np.array([[5,6],[7,8]])\n",
    "\n",
    "#Let's Print Orignal Array\n",
    "print(\"Original array:\")\n",
    "print(x)\n",
    "\n",
    "#Sum of all elements\n",
    "print(\"Sum of all elements:\")\n",
    "print(np.sum(x))\n",
    "\n",
    "#Sum of each column\n",
    "print(\"Sum of each column:\")\n",
    "print(np.sum(x, axis=0))\n",
    "\n",
    "#Sum of each row\n",
    "print(\"Sum of each row:\")\n",
    "print(np.sum(x, axis=1))"
   ]
  },
  {
   "cell_type": "markdown",
   "metadata": {},
   "source": [
    "# Question 4:\n",
    "Write a NumPy program to add, subtract, multiply, divide arguments element-wise."
   ]
  },
  {
   "cell_type": "code",
   "execution_count": 15,
   "metadata": {},
   "outputs": [
    {
     "name": "stdout",
     "output_type": "stream",
     "text": [
      "The element wise addition of matrix is : \n",
      "[[ 6 12]\n",
      " [13 13]]\n",
      "The element wise subtraction of matrix is : \n",
      "[[ 2 -6]\n",
      " [ 1 -3]]\n",
      "The element wise multiplucation of matrix is : \n",
      "[[ 8 27]\n",
      " [42 40]]\n",
      "The element wise division of matrix is : \n",
      "[[2.         0.33333333]\n",
      " [1.16666667 0.625     ]]\n"
     ]
    }
   ],
   "source": [
    "# add(), subtract(), multiply() and divide() \n",
    "  \n",
    "import numpy as np\n",
    "  \n",
    "# initializing matrices \n",
    "x = np.array([[4, 3], [7, 5]]) \n",
    "y = np.array([[2, 9], [6, 8]]) \n",
    "  \n",
    "# using add() to add matrices \n",
    "print (\"The element wise addition of matrix is : \") \n",
    "print (np.add(x,y)) \n",
    "  \n",
    "# using subtract() to subtract matrices \n",
    "print (\"The element wise subtraction of matrix is : \") \n",
    "print (np.subtract(x,y)) \n",
    "  \n",
    "# using multiply() to multiply matrices \n",
    "print (\"The element wise multiplucation of matrix is : \") \n",
    "print (np.multiply(x,y)) \n",
    "    \n",
    "\n",
    "# using divide() to divide matrices \n",
    "print (\"The element wise division of matrix is : \") \n",
    "print (np.divide(x,y)) "
   ]
  },
  {
   "cell_type": "markdown",
   "metadata": {},
   "source": [
    "# Question 5:\n",
    "Write a NumPy program to compute the trigonometric sine, cosine and tangent array of angles given in\n",
    "degree."
   ]
  },
  {
   "cell_type": "code",
   "execution_count": 17,
   "metadata": {},
   "outputs": [
    {
     "name": "stdout",
     "output_type": "stream",
     "text": [
      "sine: array of angles given in degrees\n",
      "[0.         0.5        0.70710678 0.8660254  1.        ]\n",
      "cosine: array of angles given in degrees\n",
      "[1.00000000e+00 8.66025404e-01 7.07106781e-01 5.00000000e-01\n",
      " 6.12323400e-17]\n",
      "tangent: array of angles given in degrees\n",
      "[0.00000000e+00 5.77350269e-01 1.00000000e+00 1.73205081e+00\n",
      " 1.63312394e+16]\n"
     ]
    }
   ],
   "source": [
    "import numpy as np\n",
    "\n",
    "print(\"sine: array of angles given in degrees\")\n",
    "print(np.sin(np.array((0., 30., 45., 60., 90.)) * np.pi / 180.))\n",
    "\n",
    "\n",
    "print(\"cosine: array of angles given in degrees\")\n",
    "print(np.cos(np.array((0., 30., 45., 60., 90.)) * np.pi / 180.))\n",
    "\n",
    "\n",
    "print(\"tangent: array of angles given in degrees\")\n",
    "print(np.tan(np.array((0., 30., 45., 60., 90.)) * np.pi / 180.))"
   ]
  },
  {
   "cell_type": "markdown",
   "metadata": {},
   "source": [
    "# Question 6:\n",
    "Write a Pandas program to create and display a DataFrame from a specified dictionary data which has the\n",
    "index labels"
   ]
  },
  {
   "cell_type": "code",
   "execution_count": 20,
   "metadata": {},
   "outputs": [
    {
     "name": "stdout",
     "output_type": "stream",
     "text": [
      "      name  score  attempts qualify\n",
      "a    Anish   12.5         1     yes\n",
      "b   Dharam    9.0         3      no\n",
      "c  Karinna   16.5         2     yes\n",
      "d    Jalay    NaN         3      no\n",
      "e   Eshita    9.0         2      no\n",
      "f   Mitesh   20.0         3     yes\n",
      "g   Mayank   14.5         1     yes\n",
      "h   Laukin    NaN         1      no\n",
      "i    Keval    8.0         2      no\n",
      "j      Jay   19.0         1     yes\n"
     ]
    }
   ],
   "source": [
    "import pandas as pd\n",
    "import numpy as np\n",
    "\n",
    "exam_data  = {'name': ['Anish', 'Dharam', 'Karinna', 'Jalay', 'Eshita', 'Mitesh', 'Mayank', 'Laukin', 'Keval', 'Jay'],\n",
    "        'score': [12.5, 9, 16.5, np.nan, 9, 20, 14.5, np.nan, 8, 19],\n",
    "        'attempts': [1, 3, 2, 3, 2, 3, 1, 1, 2, 1],\n",
    "        'qualify': ['yes', 'no', 'yes', 'no', 'no', 'yes', 'yes', 'no', 'no', 'yes']}\n",
    "labels = ['a', 'b', 'c', 'd', 'e', 'f', 'g', 'h', 'i', 'j']\n",
    "\n",
    "df = pd.DataFrame(exam_data , index=labels)\n",
    "print(df)\n"
   ]
  },
  {
   "cell_type": "markdown",
   "metadata": {},
   "source": [
    "# Question 7:\n",
    "Write a Pandas program to select the 'name' and 'score' columns from the following DataFrame."
   ]
  },
  {
   "cell_type": "code",
   "execution_count": 21,
   "metadata": {},
   "outputs": [
    {
     "name": "stdout",
     "output_type": "stream",
     "text": [
      "Select specific columns:\n",
      "      name  score\n",
      "a    Anish   12.5\n",
      "b   Dharam    9.0\n",
      "c  Karinna   16.5\n",
      "d    Jalay    NaN\n",
      "e   Eshita    9.0\n",
      "f   Mitesh   20.0\n",
      "g   Mayank   14.5\n",
      "h   Laukin    NaN\n",
      "i    Keval    8.0\n",
      "j      Jay   19.0\n"
     ]
    }
   ],
   "source": [
    "import pandas as pd\n",
    "import numpy as np\n",
    "\n",
    "exam_data  = {'name': ['Anish', 'Dharam', 'Karinna', 'Jalay', 'Eshita', 'Mitesh', 'Mayank', 'Laukin', 'Keval', 'Jay'],\n",
    "        'score': [12.5, 9, 16.5, np.nan, 9, 20, 14.5, np.nan, 8, 19],\n",
    "        'attempts': [1, 3, 2, 3, 2, 3, 1, 1, 2, 1],\n",
    "        'qualify': ['yes', 'no', 'yes', 'no', 'no', 'yes', 'yes', 'no', 'no', 'yes']}\n",
    "labels = ['a', 'b', 'c', 'd', 'e', 'f', 'g', 'h', 'i', 'j']\n",
    "\n",
    "df = pd.DataFrame(exam_data , index=labels)\n",
    "print(\"Select specific columns:\")\n",
    "print(df[['name', 'score']])\n"
   ]
  },
  {
   "cell_type": "markdown",
   "metadata": {},
   "source": [
    "# Question 8:\n",
    "Write a Pandas program to join the two given dataframes along rows and assign all data."
   ]
  },
  {
   "cell_type": "code",
   "execution_count": 23,
   "metadata": {},
   "outputs": [
    {
     "name": "stdout",
     "output_type": "stream",
     "text": [
      "Original DataFrames:\n",
      "  student_id            name  marks\n",
      "0         S1   Darshan Ingle    200\n",
      "1         S2  Rishabh Gandhi    210\n",
      "2         S3   Brijesh Patel    190\n",
      "3         S4     Bhavin Shah    222\n",
      "4         S5     Keval Patel    199\n",
      "-------------------------------------\n",
      "  student_id           name  marks\n",
      "0         S4   Saurabh Rana    201\n",
      "1         S5     Karan Shah    200\n",
      "2         S6    Dinesh Shah    198\n",
      "3         S7    Jalay Singh    219\n",
      "4         S8  Mayank Parmar    201\n",
      "\n",
      "Join the said two dataframes along rows:\n",
      "  student_id            name  marks\n",
      "0         S1   Darshan Ingle    200\n",
      "1         S2  Rishabh Gandhi    210\n",
      "2         S3   Brijesh Patel    190\n",
      "3         S4     Bhavin Shah    222\n",
      "4         S5     Keval Patel    199\n",
      "0         S4    Saurabh Rana    201\n",
      "1         S5      Karan Shah    200\n",
      "2         S6     Dinesh Shah    198\n",
      "3         S7     Jalay Singh    219\n",
      "4         S8   Mayank Parmar    201\n"
     ]
    }
   ],
   "source": [
    "import pandas as pd\n",
    "\n",
    "student_data1 = pd.DataFrame({\n",
    "        'student_id': ['S1', 'S2', 'S3', 'S4', 'S5'],\n",
    "         'name': ['Darshan Ingle', 'Rishabh Gandhi', 'Brijesh Patel', 'Bhavin Shah', 'Keval Patel'], \n",
    "        'marks': [200, 210, 190, 222, 199]})\n",
    "\n",
    "student_data2 = pd.DataFrame({\n",
    "        'student_id': ['S4', 'S5', 'S6', 'S7', 'S8'],\n",
    "        'name': ['Saurabh Rana', 'Karan Shah', 'Dinesh Shah', 'Jalay Singh', 'Mayank Parmar'], \n",
    "        'marks': [201, 200, 198, 219, 201]})\n",
    "\n",
    "print(\"Original DataFrames:\")\n",
    "print(student_data1)\n",
    "print(\"-------------------------------------\")\n",
    "print(student_data2)\n",
    "print(\"\\nJoin the said two dataframes along rows:\")\n",
    "result_data = pd.concat([student_data1, student_data2])\n",
    "print(result_data)\n"
   ]
  },
  {
   "cell_type": "markdown",
   "metadata": {},
   "source": [
    "# Question 9:\n",
    "Write a Pandas program to detect missing values of a given DataFrame. Display True or False."
   ]
  },
  {
   "cell_type": "code",
   "execution_count": 28,
   "metadata": {},
   "outputs": [
    {
     "name": "stdout",
     "output_type": "stream",
     "text": [
      "Original Orders DataFrame:\n",
      "    order_no  purch_amt    ord_date  customer_id  employee_id\n",
      "0     1001.0       1520  2012-10-05         3002       3002.0\n",
      "1        NaN       7065  2012-09-10         3001       3003.0\n",
      "2    10002.0       6526         NaN         3001       3001.0\n",
      "3    10004.0       1105  2012-08-17         3003          NaN\n",
      "4        NaN       4852  2012-09-10         3002       3002.0\n",
      "5    10005.0       2408  2012-07-27         3001       3001.0\n",
      "6        NaN       5750  2012-09-10         3001       3001.0\n",
      "7    10010.0       1983  2012-10-10         3004          NaN\n",
      "8    10003.0      24801  2012-10-10         3003       3003.0\n",
      "9    10012.0      25045  2012-06-27         3002       3002.0\n",
      "10       NaN       7529  2012-08-17         3001       3003.0\n",
      "11   10013.0       3045  2012-04-25         3001          NaN\n",
      "\n",
      "Missing values of the said dataframe:\n",
      "    order_no  purch_amt  ord_date  customer_id  employee_id\n",
      "0      False      False     False        False        False\n",
      "1       True      False     False        False        False\n",
      "2      False      False      True        False        False\n",
      "3      False      False     False        False         True\n",
      "4       True      False     False        False        False\n",
      "5      False      False     False        False        False\n",
      "6       True      False     False        False        False\n",
      "7      False      False     False        False         True\n",
      "8      False      False     False        False        False\n",
      "9      False      False     False        False        False\n",
      "10      True      False     False        False        False\n",
      "11     False      False     False        False         True\n"
     ]
    }
   ],
   "source": [
    "import pandas as pd\n",
    "import numpy as np\n",
    "pd.set_option('display.max_rows', None)\n",
    "\n",
    "#pd.set_option('display.max_columns', None)\n",
    "\n",
    "df = pd.DataFrame({\n",
    "'order_no':[1001,np.nan,10002,10004,np.nan,10005,np.nan,10010,10003,10012,np.nan,10013],\n",
    "'purch_amt':[1520,7065,6526,1105,4852,2408,5750,1983,24801,25045, 7529,3045],\n",
    "'ord_date': ['2012-10-05','2012-09-10',np.nan,'2012-08-17','2012-09-10','2012-07-27','2012-09-10','2012-10-10','2012-10-10','2012-06-27','2012-08-17','2012-04-25'],\n",
    "'customer_id':[3002,3001,3001,3003,3002,3001,3001,3004,3003,3002,3001,3001],\n",
    "'employee_id':[3002,3003,3001,np.nan,3002,3001,3001,np.nan,3003,3002,3003,np.nan]})\n",
    "\n",
    "print(\"Original Orders DataFrame:\")\n",
    "print(df)\n",
    "\n",
    "print(\"\\nMissing values of the said dataframe:\")\n",
    "print(df.isna())\n"
   ]
  },
  {
   "cell_type": "markdown",
   "metadata": {},
   "source": [
    "# Question 10:\n",
    "Write a Pandas program to create and display a one-dimensional array-like object containing an array of\n",
    "data."
   ]
  },
  {
   "cell_type": "code",
   "execution_count": 31,
   "metadata": {},
   "outputs": [
    {
     "name": "stdout",
     "output_type": "stream",
     "text": [
      "0    23\n",
      "1    25\n",
      "2    31\n",
      "3    36\n",
      "dtype: int64\n"
     ]
    }
   ],
   "source": [
    "# import the library \n",
    "import pandas as pd \n",
    "  \n",
    "# create the one-dimensional array \n",
    "data = [23, 25, 31, 36] \n",
    "  \n",
    "# create the Series \n",
    "ex1 = pd.Series(data) \n",
    "  \n",
    "# displaying the Series \n",
    "print(ex1) "
   ]
  },
  {
   "cell_type": "code",
   "execution_count": null,
   "metadata": {},
   "outputs": [],
   "source": []
  }
 ],
 "metadata": {
  "kernelspec": {
   "display_name": "Python 3",
   "language": "python",
   "name": "python3"
  },
  "language_info": {
   "codemirror_mode": {
    "name": "ipython",
    "version": 3
   },
   "file_extension": ".py",
   "mimetype": "text/x-python",
   "name": "python",
   "nbconvert_exporter": "python",
   "pygments_lexer": "ipython3",
   "version": "3.7.6"
  }
 },
 "nbformat": 4,
 "nbformat_minor": 4
}
